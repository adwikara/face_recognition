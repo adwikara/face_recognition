{
 "cells": [
  {
   "cell_type": "code",
   "execution_count": 3,
   "metadata": {},
   "outputs": [],
   "source": [
    "import face_recognition\n",
    "import cv2\n",
    "import numpy as np\n",
    "import pandas as pd\n",
    "from sklearn.ensemble import IsolationForest\n",
    "import pickle"
   ]
  },
  {
   "cell_type": "code",
   "execution_count": 11,
   "metadata": {},
   "outputs": [],
   "source": [
    "embedding_array = []\n",
    "def append_array(name,embedding_array):\n",
    "    image = []\n",
    "    face_encoding = []\n",
    "    for i in range(5):\n",
    "        image.append(face_recognition.load_image_file(\"aligned_images/\"+name+\"/\"+name+str(i)+\".jpg\"))\n",
    "        face_encoding.append(face_recognition.face_encodings(image[i-1])[0])\n",
    "        embedding_array.append(list(face_encoding[i-1]))\n",
    "        #Add noise\n",
    "\n",
    "        for j in range(9):\n",
    "            noisy_image = face_encoding[i-1] + np.random.normal(1.34066671848532e-05)\n",
    "            embedding_array.append(list(noisy_image))\n",
    "    \n",
    "    return embedding_array\n",
    "\n",
    "embedding_array = append_array('Aditya',embedding_array)\n",
    "embedding_array = append_array('Joshua',embedding_array)\n",
    "embedding_array = append_array('Carrisa',embedding_array)\n",
    "embedding_array = append_array('Madeline',embedding_array)"
   ]
  },
  {
   "cell_type": "code",
   "execution_count": 12,
   "metadata": {},
   "outputs": [
    {
     "data": {
      "text/plain": [
       "200"
      ]
     },
     "execution_count": 12,
     "metadata": {},
     "output_type": "execute_result"
    }
   ],
   "source": [
    "#Total number of embeddings\n",
    "len(embedding_array)"
   ]
  },
  {
   "cell_type": "code",
   "execution_count": 22,
   "metadata": {},
   "outputs": [],
   "source": [
    "# Load a sample picture and learn how to recognize it.\n",
    "Aditya10_image = face_recognition.load_image_file(\"images/Aditya.jpg\")\n",
    "Aditya10_face_encoding = face_recognition.face_encodings(Aditya10_image)[0]\n",
    "\n",
    "# Load a third sample picture and learn how to recognize it.\n",
    "Esti_image = face_recognition.load_image_file(\"images/Esti.jpg\")\n",
    "Esti_face_encoding = face_recognition.face_encodings(Esti_image)[0]\n",
    "\n",
    "# Load a fourth sample picture and learn how to recognize it.\n",
    "Will_image = face_recognition.load_image_file(\"images/Will.jpg\")\n",
    "Will_face_encoding = face_recognition.face_encodings(Will_image)[0]\n",
    "\n",
    "# Load a fourth sample picture and learn how to recognize it.\n",
    "Carr_image = face_recognition.load_image_file(\"images/Carrisa.jpg\")\n",
    "Carr_face_encoding = face_recognition.face_encodings(Carr_image)[0]\n",
    "\n",
    "# Load a fourth sample picture and learn how to recognize it.\n",
    "random1_image = face_recognition.load_image_file(\"random_faces/random1.jpg\")\n",
    "random1_face_encoding = face_recognition.face_encodings(random1_image)[0]\n",
    "\n",
    "# Load a fourth sample picture and learn how to recognize it.\n",
    "random2_image = face_recognition.load_image_file(\"random_faces/random2.jpg\")\n",
    "random2_face_encoding = face_recognition.face_encodings(random2_image)[0]\n",
    "\n",
    "# Load a fourth sample picture and learn how to recognize it.\n",
    "random3_image = face_recognition.load_image_file(\"random_faces/random3.jpg\")\n",
    "random3_face_encoding = face_recognition.face_encodings(random3_image)[0]\n"
   ]
  },
  {
   "cell_type": "code",
   "execution_count": 23,
   "metadata": {},
   "outputs": [
    {
     "data": {
      "text/plain": [
       "1.34066671848532e-05"
      ]
     },
     "execution_count": 23,
     "metadata": {},
     "output_type": "execute_result"
    }
   ],
   "source": [
    "np.var(Aditya10_face_encoding)/1000"
   ]
  },
  {
   "cell_type": "code",
   "execution_count": 24,
   "metadata": {},
   "outputs": [],
   "source": [
    "X = np.array(embedding_array)"
   ]
  },
  {
   "cell_type": "code",
   "execution_count": null,
   "metadata": {},
   "outputs": [],
   "source": []
  },
  {
   "cell_type": "code",
   "execution_count": 34,
   "metadata": {},
   "outputs": [
    {
     "data": {
      "text/plain": [
       "IsolationForest(behaviour='new', bootstrap=False, contamination='auto',\n",
       "                max_features=128, max_samples=50, n_estimators=4, n_jobs=None,\n",
       "                random_state=None, verbose=0, warm_start=False)"
      ]
     },
     "execution_count": 34,
     "metadata": {},
     "output_type": "execute_result"
    }
   ],
   "source": [
    "clf = IsolationForest(n_estimators=4, max_samples=50, max_features=128,behaviour='new',contamination='auto')\n",
    "clf.fit(X)"
   ]
  },
  {
   "cell_type": "code",
   "execution_count": 35,
   "metadata": {},
   "outputs": [],
   "source": [
    "#Pickle the isolation forest model\n",
    "file_Name = \"outlier_model\"\n",
    "fileObject = open(file_Name,'wb') \n",
    "pickle.dump(clf,fileObject)   \n",
    "fileObject.close()\n",
    "\n",
    "with open(file_Name, 'rb') as pickle_file:\n",
    "    clf = pickle.load(pickle_file)"
   ]
  },
  {
   "cell_type": "code",
   "execution_count": 33,
   "metadata": {},
   "outputs": [
    {
     "data": {
      "text/plain": [
       "array([-1])"
      ]
     },
     "execution_count": 33,
     "metadata": {},
     "output_type": "execute_result"
    }
   ],
   "source": [
    "clf.predict([random3_face_encoding])"
   ]
  },
  {
   "cell_type": "code",
   "execution_count": null,
   "metadata": {},
   "outputs": [],
   "source": []
  },
  {
   "cell_type": "code",
   "execution_count": null,
   "metadata": {},
   "outputs": [],
   "source": []
  }
 ],
 "metadata": {
  "kernelspec": {
   "display_name": "Python 3",
   "language": "python",
   "name": "python3"
  },
  "language_info": {
   "codemirror_mode": {
    "name": "ipython",
    "version": 3
   },
   "file_extension": ".py",
   "mimetype": "text/x-python",
   "name": "python",
   "nbconvert_exporter": "python",
   "pygments_lexer": "ipython3",
   "version": "3.6.8"
  }
 },
 "nbformat": 4,
 "nbformat_minor": 2
}
