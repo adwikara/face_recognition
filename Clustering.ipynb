{
 "cells": [
  {
   "cell_type": "code",
   "execution_count": 163,
   "metadata": {},
   "outputs": [],
   "source": [
    "import face_recognition\n",
    "import cv2\n",
    "import numpy as np\n",
    "import pandas as pd\n",
    "import matplotlib.pyplot as plt"
   ]
  },
  {
   "cell_type": "code",
   "execution_count": 164,
   "metadata": {},
   "outputs": [],
   "source": [
    "# Load a sample picture and learn how to recognize it.\n",
    "Aditya_image = face_recognition.load_image_file(\"images/Aditya.jpg\")\n",
    "Aditya_face_encoding = face_recognition.face_encodings(Aditya_image)[0]\n",
    "\n",
    "# Load a sample picture and learn how to recognize it.\n",
    "Aditya2_image = face_recognition.load_image_file(\"images/Aditya2.jpg\")\n",
    "Aditya2_face_encoding = face_recognition.face_encodings(Aditya2_image)[0]\n",
    "\n",
    "# Load a sample picture and learn how to recognize it.\n",
    "Aditya3_image = face_recognition.load_image_file(\"images/Aditya3.jpg\")\n",
    "Aditya3_face_encoding = face_recognition.face_encodings(Aditya3_image)[0]\n",
    "\n",
    "# Load a second sample picture and learn how to recognize it.\n",
    "Carrisa_image = face_recognition.load_image_file(\"images/Carrisa.jpg\")\n",
    "Carrisa_face_encoding = face_recognition.face_encodings(Carrisa_image)[0]\n",
    "\n",
    "# Load a third sample picture and learn how to recognize it.\n",
    "Esti_image = face_recognition.load_image_file(\"images/Esti.jpg\")\n",
    "Esti_face_encoding = face_recognition.face_encodings(Esti_image)[0]\n",
    "\n",
    "# Load a fourth sample picture and learn how to recognize it.\n",
    "Will_image = face_recognition.load_image_file(\"images/Will.jpg\")\n",
    "Will_face_encoding = face_recognition.face_encodings(Will_image)[0]"
   ]
  },
  {
   "cell_type": "code",
   "execution_count": 165,
   "metadata": {},
   "outputs": [],
   "source": [
    "from sklearn.cluster import DBSCAN"
   ]
  },
  {
   "cell_type": "code",
   "execution_count": 194,
   "metadata": {},
   "outputs": [],
   "source": [
    "X = np.array([list(Aditya_face_encoding), \n",
    "              list(Aditya2_face_encoding),\n",
    "              list(Aditya3_face_encoding),\n",
    "              list(Carrisa_face_encoding), \n",
    "              list(Esti_face_encoding),\n",
    "              list(Esti_face_encoding),\n",
    "              list(Will_face_encoding),\n",
    "              list(Carrisa_face_encoding)])\n"
   ]
  },
  {
   "cell_type": "code",
   "execution_count": 195,
   "metadata": {},
   "outputs": [],
   "source": [
    "clustering = DBSCAN(eps=0.4,min_samples=2).fit(X)"
   ]
  },
  {
   "cell_type": "code",
   "execution_count": 196,
   "metadata": {},
   "outputs": [
    {
     "data": {
      "text/plain": [
       "array([ 0,  0,  0,  1,  2,  2, -1,  1])"
      ]
     },
     "execution_count": 196,
     "metadata": {},
     "output_type": "execute_result"
    }
   ],
   "source": [
    "clustering.labels_\n",
    "#Outlier nya yang value nya -1, in this case muka nya Will\n",
    "#Parameter eps nya tapi dari tadi guess & check gitu"
   ]
  },
  {
   "cell_type": "code",
   "execution_count": 131,
   "metadata": {},
   "outputs": [
    {
     "data": {
      "text/plain": [
       "DBSCAN(algorithm='auto', eps=0.5, leaf_size=30, metric='euclidean',\n",
       "       metric_params=None, min_samples=5, n_jobs=None, p=None)"
      ]
     },
     "execution_count": 131,
     "metadata": {},
     "output_type": "execute_result"
    }
   ],
   "source": [
    "clustering"
   ]
  }
 ],
 "metadata": {
  "kernelspec": {
   "display_name": "Python 3",
   "language": "python",
   "name": "python3"
  },
  "language_info": {
   "codemirror_mode": {
    "name": "ipython",
    "version": 3
   },
   "file_extension": ".py",
   "mimetype": "text/x-python",
   "name": "python",
   "nbconvert_exporter": "python",
   "pygments_lexer": "ipython3",
   "version": "3.6.8"
  }
 },
 "nbformat": 4,
 "nbformat_minor": 2
}
