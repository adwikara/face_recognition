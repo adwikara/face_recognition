{
 "cells": [
  {
   "cell_type": "code",
   "execution_count": 19,
   "metadata": {},
   "outputs": [],
   "source": [
    "import face_recognition\n",
    "import cv2\n",
    "import numpy as np\n",
    "import pandas as pd\n",
    "from sklearn.ensemble import IsolationForest\n",
    "from sklearn import svm\n",
    "from sklearn.covariance import EllipticEnvelope\n",
    "import pickle"
   ]
  },
  {
   "cell_type": "code",
   "execution_count": 20,
   "metadata": {},
   "outputs": [],
   "source": [
    "#Generate embedding array of known faces using 5 images per face\n",
    "embedding_array = []\n",
    "def append_array(name,embedding_array):\n",
    "    image = []\n",
    "    face_encoding = []\n",
    "    for i in range(5):\n",
    "        image.append(face_recognition.load_image_file(\"data_images/\"+name+\"/\"+name+str(i)+\".jpg\"))\n",
    "        face_encoding.append(face_recognition.face_encodings(image[i-1])[0])\n",
    "        embedding_array.append(list(face_encoding[i-1]))\n",
    "\n",
    "    \n",
    "    return embedding_array\n",
    "\n",
    "embedding_array = append_array('Aditya',embedding_array)\n",
    "embedding_array = append_array('Joshua',embedding_array)\n",
    "embedding_array = append_array('Carrisa',embedding_array)\n",
    "embedding_array = append_array('Madeline',embedding_array)\n",
    "embedding_array = append_array('Will',embedding_array)"
   ]
  },
  {
   "cell_type": "code",
   "execution_count": 98,
   "metadata": {},
   "outputs": [],
   "source": [
    "#Generate embedding array of known faces using 1 image per face but add noise\n",
    "embedding_array = []\n",
    "def append_array(name,embedding_array):\n",
    "    image=face_recognition.load_image_file(\"images/\"+name+\".jpg\")\n",
    "    face_encoding=(face_recognition.face_encodings(image)[0])\n",
    "    embedding_array.append(list(face_encoding))\n",
    "    #Add noise\n",
    "    for j in range(29):\n",
    "        noisy_image = face_encoding + np.random.normal(0.00001)\n",
    "        embedding_array.append(list(noisy_image))\n",
    "\n",
    "    return embedding_array\n",
    "\n",
    "embedding_array = append_array('Aditya',embedding_array)\n",
    "embedding_array = append_array('Joshua',embedding_array)\n",
    "embedding_array = append_array('Carrisa',embedding_array)\n",
    "embedding_array = append_array('Madeline',embedding_array)"
   ]
  },
  {
   "cell_type": "code",
   "execution_count": 21,
   "metadata": {},
   "outputs": [
    {
     "data": {
      "text/plain": [
       "25"
      ]
     },
     "execution_count": 21,
     "metadata": {},
     "output_type": "execute_result"
    }
   ],
   "source": [
    "#Total number of embeddings\n",
    "len(embedding_array)"
   ]
  },
  {
   "cell_type": "code",
   "execution_count": 22,
   "metadata": {},
   "outputs": [],
   "source": [
    "#Load testing embeddings\n",
    "\n",
    "# Load a sample picture and learn how to recognize it.\n",
    "Aditya10_image = face_recognition.load_image_file(\"images/Aditya.jpg\")\n",
    "Aditya10_face_encoding = face_recognition.face_encodings(Aditya10_image)[0]\n",
    "\n",
    "# Load a third sample picture and learn how to recognize it.\n",
    "Esti_image = face_recognition.load_image_file(\"images/Esti.jpg\")\n",
    "Esti_face_encoding = face_recognition.face_encodings(Esti_image)[0]\n",
    "\n",
    "# Load a fourth sample picture and learn how to recognize it.\n",
    "Will_image = face_recognition.load_image_file(\"images/Will.jpg\")\n",
    "Will_face_encoding = face_recognition.face_encodings(Will_image)[0]\n",
    "\n",
    "# Load a fourth sample picture and learn how to recognize it.\n",
    "Carr_image = face_recognition.load_image_file(\"images/Carrisa.jpg\")\n",
    "Carr_face_encoding = face_recognition.face_encodings(Carr_image)[0]\n",
    "\n",
    "# Load a fourth sample picture and learn how to recognize it.\n",
    "random1_image = face_recognition.load_image_file(\"random_faces/random1.jpg\")\n",
    "random1_face_encoding = face_recognition.face_encodings(random1_image)[0]\n",
    "\n",
    "# Load a fourth sample picture and learn how to recognize it.\n",
    "random2_image = face_recognition.load_image_file(\"random_faces/random2.jpg\")\n",
    "random2_face_encoding = face_recognition.face_encodings(random2_image)[0]\n",
    "\n",
    "# Load a fourth sample picture and learn how to recognize it.\n",
    "random3_image = face_recognition.load_image_file(\"random_faces/random3.jpg\")\n",
    "random3_face_encoding = face_recognition.face_encodings(random3_image)[0]\n"
   ]
  },
  {
   "cell_type": "code",
   "execution_count": 23,
   "metadata": {},
   "outputs": [],
   "source": [
    "#Generate numpy array for the embeddings\n",
    "X = np.array(embedding_array)"
   ]
  },
  {
   "cell_type": "code",
   "execution_count": 24,
   "metadata": {},
   "outputs": [
    {
     "data": {
      "text/plain": [
       "OneClassSVM(cache_size=200, coef0=0.0, degree=3, gamma=0.0078125,\n",
       "      kernel='rbf', max_iter=-1, nu=0.2, random_state=None, shrinking=True,\n",
       "      tol=0.001, verbose=False)"
      ]
     },
     "execution_count": 24,
     "metadata": {},
     "output_type": "execute_result"
    }
   ],
   "source": [
    "#Using SVM\n",
    "clf = svm.OneClassSVM(nu=0.2, kernel=\"rbf\", gamma=0.0078125)\n",
    "clf.fit(X)"
   ]
  },
  {
   "cell_type": "code",
   "execution_count": 25,
   "metadata": {},
   "outputs": [],
   "source": [
    "#Pickle the svm model\n",
    "file_Name = \"./models/svm_model\"\n",
    "fileObject = open(file_Name,'wb') \n",
    "pickle.dump(clf,fileObject)   \n",
    "fileObject.close()\n",
    "\n",
    "with open(file_Name, 'rb') as pickle_file:\n",
    "    clf = pickle.load(pickle_file)"
   ]
  },
  {
   "cell_type": "code",
   "execution_count": 26,
   "metadata": {},
   "outputs": [
    {
     "ename": "TypeError",
     "evalue": "__init__() got an unexpected keyword argument 'behaviour'",
     "output_type": "error",
     "traceback": [
      "\u001b[0;31m---------------------------------------------------------------------------\u001b[0m",
      "\u001b[0;31mTypeError\u001b[0m                                 Traceback (most recent call last)",
      "\u001b[0;32m<ipython-input-26-63a963dbf292>\u001b[0m in \u001b[0;36m<module>\u001b[0;34m\u001b[0m\n\u001b[1;32m      1\u001b[0m \u001b[0;31m#Using Isolation Forrest\u001b[0m\u001b[0;34m\u001b[0m\u001b[0;34m\u001b[0m\u001b[0;34m\u001b[0m\u001b[0m\n\u001b[0;32m----> 2\u001b[0;31m \u001b[0mclf\u001b[0m \u001b[0;34m=\u001b[0m \u001b[0mIsolationForest\u001b[0m\u001b[0;34m(\u001b[0m\u001b[0mn_estimators\u001b[0m\u001b[0;34m=\u001b[0m\u001b[0;36m5\u001b[0m\u001b[0;34m,\u001b[0m \u001b[0mmax_samples\u001b[0m\u001b[0;34m=\u001b[0m\u001b[0;36m5\u001b[0m\u001b[0;34m,\u001b[0m \u001b[0mmax_features\u001b[0m\u001b[0;34m=\u001b[0m\u001b[0;36m128\u001b[0m\u001b[0;34m,\u001b[0m\u001b[0mbehaviour\u001b[0m\u001b[0;34m=\u001b[0m\u001b[0;34m'new'\u001b[0m\u001b[0;34m,\u001b[0m\u001b[0mcontamination\u001b[0m\u001b[0;34m=\u001b[0m\u001b[0;34m'auto'\u001b[0m\u001b[0;34m)\u001b[0m\u001b[0;34m\u001b[0m\u001b[0;34m\u001b[0m\u001b[0m\n\u001b[0m\u001b[1;32m      3\u001b[0m \u001b[0mclf\u001b[0m\u001b[0;34m.\u001b[0m\u001b[0mfit\u001b[0m\u001b[0;34m(\u001b[0m\u001b[0mX\u001b[0m\u001b[0;34m)\u001b[0m\u001b[0;34m\u001b[0m\u001b[0;34m\u001b[0m\u001b[0m\n",
      "\u001b[0;31mTypeError\u001b[0m: __init__() got an unexpected keyword argument 'behaviour'"
     ]
    }
   ],
   "source": [
    "#Using Isolation Forrest\n",
    "clf = IsolationForest(n_estimators=5, max_samples=5, max_features=128,behaviour='new',contamination='auto')\n",
    "clf.fit(X)"
   ]
  },
  {
   "cell_type": "code",
   "execution_count": 133,
   "metadata": {},
   "outputs": [],
   "source": [
    "#Pickle the isolation forest model\n",
    "file_Name = \"./models/iso_forrest_model\"\n",
    "fileObject = open(file_Name,'wb') \n",
    "pickle.dump(clf,fileObject)   \n",
    "fileObject.close()\n",
    "\n",
    "with open(file_Name, 'rb') as pickle_file:\n",
    "    clf = pickle.load(pickle_file)"
   ]
  },
  {
   "cell_type": "code",
   "execution_count": 13,
   "metadata": {},
   "outputs": [
    {
     "name": "stderr",
     "output_type": "stream",
     "text": [
      "/anaconda3/lib/python3.6/site-packages/sklearn/covariance/robust_covariance.py:622: UserWarning: The covariance matrix associated to your dataset is not full rank\n",
      "  warnings.warn(\"The covariance matrix associated to your dataset \"\n"
     ]
    },
    {
     "data": {
      "text/plain": [
       "'\\nNotes:\\nOutlier detection from covariance estimation may break or not perform well in high-dimensional settings. \\nIn particular, one will always take care to work with n_samples > n_features ** 2\\n'"
      ]
     },
     "execution_count": 13,
     "metadata": {},
     "output_type": "execute_result"
    }
   ],
   "source": [
    "#Using Robust Covariance\n",
    "clf = EllipticEnvelope(random_state=0, contamination=0.03846)\n",
    "clf.fit(X)\n",
    "\n",
    "'''\n",
    "Notes:\n",
    "Outlier detection from covariance estimation may break or not perform well in high-dimensional settings. \n",
    "In particular, one will always take care to work with n_samples > n_features ** 2\n",
    "'''"
   ]
  },
  {
   "cell_type": "code",
   "execution_count": 14,
   "metadata": {},
   "outputs": [],
   "source": [
    "#Pickle the robust covariance model\n",
    "file_Name = \"./models/rob_covariance_model\"\n",
    "fileObject = open(file_Name,'wb') \n",
    "pickle.dump(clf,fileObject)   \n",
    "fileObject.close()\n",
    "\n",
    "with open(file_Name, 'rb') as pickle_file:\n",
    "    clf = pickle.load(pickle_file)"
   ]
  },
  {
   "cell_type": "code",
   "execution_count": 15,
   "metadata": {},
   "outputs": [
    {
     "data": {
      "text/plain": [
       "array([1])"
      ]
     },
     "execution_count": 15,
     "metadata": {},
     "output_type": "execute_result"
    }
   ],
   "source": [
    "#Check with random pictures\n",
    "clf.predict([random3_face_encoding])"
   ]
  },
  {
   "cell_type": "code",
   "execution_count": 146,
   "metadata": {},
   "outputs": [
    {
     "data": {
      "text/plain": [
       "array([-1])"
      ]
     },
     "execution_count": 146,
     "metadata": {},
     "output_type": "execute_result"
    }
   ],
   "source": [
    "clf.predict([random2_face_encoding])"
   ]
  },
  {
   "cell_type": "code",
   "execution_count": 147,
   "metadata": {},
   "outputs": [
    {
     "data": {
      "text/plain": [
       "array([-1])"
      ]
     },
     "execution_count": 147,
     "metadata": {},
     "output_type": "execute_result"
    }
   ],
   "source": [
    "clf.predict([random1_face_encoding])"
   ]
  },
  {
   "cell_type": "code",
   "execution_count": 148,
   "metadata": {},
   "outputs": [
    {
     "data": {
      "text/plain": [
       "array([-1])"
      ]
     },
     "execution_count": 148,
     "metadata": {},
     "output_type": "execute_result"
    }
   ],
   "source": [
    "clf.predict([random3_face_encoding])"
   ]
  },
  {
   "cell_type": "code",
   "execution_count": 149,
   "metadata": {},
   "outputs": [
    {
     "data": {
      "text/plain": [
       "array([1])"
      ]
     },
     "execution_count": 149,
     "metadata": {},
     "output_type": "execute_result"
    }
   ],
   "source": [
    "clf.predict([Aditya10_face_encoding])"
   ]
  },
  {
   "cell_type": "code",
   "execution_count": 150,
   "metadata": {},
   "outputs": [
    {
     "data": {
      "text/plain": [
       "array([-1])"
      ]
     },
     "execution_count": 150,
     "metadata": {},
     "output_type": "execute_result"
    }
   ],
   "source": [
    "clf.predict([Esti_face_encoding])"
   ]
  },
  {
   "cell_type": "code",
   "execution_count": 151,
   "metadata": {},
   "outputs": [
    {
     "data": {
      "text/plain": [
       "array([-1])"
      ]
     },
     "execution_count": 151,
     "metadata": {},
     "output_type": "execute_result"
    }
   ],
   "source": [
    "clf.predict([Will_face_encoding])"
   ]
  },
  {
   "cell_type": "code",
   "execution_count": 152,
   "metadata": {},
   "outputs": [
    {
     "data": {
      "text/plain": [
       "array([1])"
      ]
     },
     "execution_count": 152,
     "metadata": {},
     "output_type": "execute_result"
    }
   ],
   "source": [
    "clf.predict([Carr_face_encoding])"
   ]
  },
  {
   "cell_type": "code",
   "execution_count": null,
   "metadata": {},
   "outputs": [],
   "source": []
  },
  {
   "cell_type": "code",
   "execution_count": null,
   "metadata": {},
   "outputs": [],
   "source": []
  }
 ],
 "metadata": {
  "kernelspec": {
   "display_name": "Python 3",
   "language": "python",
   "name": "python3"
  },
  "language_info": {
   "codemirror_mode": {
    "name": "ipython",
    "version": 3
   },
   "file_extension": ".py",
   "mimetype": "text/x-python",
   "name": "python",
   "nbconvert_exporter": "python",
   "pygments_lexer": "ipython3",
   "version": "3.6.8"
  }
 },
 "nbformat": 4,
 "nbformat_minor": 2
}
