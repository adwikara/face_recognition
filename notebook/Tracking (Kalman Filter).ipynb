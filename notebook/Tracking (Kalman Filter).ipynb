{
 "cells": [
  {
   "cell_type": "code",
   "execution_count": 1,
   "metadata": {},
   "outputs": [],
   "source": [
    "from pykalman import KalmanFilter\n",
    "import face_recognition\n",
    "import cv2\n",
    "import numpy as np\n",
    "import pandas as pd\n",
    "from sklearn.ensemble import IsolationForest\n",
    "from sklearn import svm\n",
    "from sklearn.covariance import EllipticEnvelope\n",
    "import pickle"
   ]
  },
  {
   "cell_type": "code",
   "execution_count": 2,
   "metadata": {},
   "outputs": [],
   "source": [
    "#Generate embedding array of known faces using 5 images per face\n",
    "embedding_array = []\n",
    "def append_array(name,embedding_array):\n",
    "    image = []\n",
    "    face_encoding = []\n",
    "    for i in range(5):\n",
    "        image.append(face_recognition.load_image_file(\"data_images/\"+name+\"/\"+name+str(i)+\".jpg\"))\n",
    "        face_encoding.append(face_recognition.face_encodings(image[i-1])[0])\n",
    "        embedding_array.append(list(face_encoding[i-1]))\n",
    "\n",
    "    \n",
    "    return embedding_array\n",
    "\n",
    "embedding_array = append_array('Aditya',embedding_array)\n",
    "embedding_array = append_array('Joshua',embedding_array)\n",
    "embedding_array = append_array('Carrisa',embedding_array)\n",
    "embedding_array = append_array('Madeline',embedding_array)\n",
    "embedding_array = append_array('Will',embedding_array)"
   ]
  },
  {
   "cell_type": "code",
   "execution_count": null,
   "metadata": {},
   "outputs": [],
   "source": [
    "#Load testing embeddings\n",
    "\n",
    "# Load a sample picture and learn how to recognize it.\n",
    "Aditya10_image = face_recognition.load_image_file(\"images/Aditya.jpg\")\n",
    "Aditya10_face_encoding = face_recognition.face_encodings(Aditya10_image)[0]\n",
    "\n",
    "# Load a third sample picture and learn how to recognize it.\n",
    "Esti_image = face_recognition.load_image_file(\"images/Esti.jpg\")\n",
    "Esti_face_encoding = face_recognition.face_encodings(Esti_image)[0]\n",
    "\n",
    "# Load a fourth sample picture and learn how to recognize it.\n",
    "Will_image = face_recognition.load_image_file(\"images/Will.jpg\")\n",
    "Will_face_encoding = face_recognition.face_encodings(Will_image)[0]\n",
    "\n",
    "# Load a fourth sample picture and learn how to recognize it.\n",
    "Carr_image = face_recognition.load_image_file(\"images/Carrisa.jpg\")\n",
    "Carr_face_encoding = face_recognition.face_encodings(Carr_image)[0]\n",
    "\n",
    "# Load a fourth sample picture and learn how to recognize it.\n",
    "random1_image = face_recognition.load_image_file(\"random_faces/random1.jpg\")\n",
    "random1_face_encoding = face_recognition.face_encodings(random1_image)[0]\n",
    "\n",
    "# Load a fourth sample picture and learn how to recognize it.\n",
    "random2_image = face_recognition.load_image_file(\"random_faces/random2.jpg\")\n",
    "random2_face_encoding = face_recognition.face_encodings(random2_image)[0]\n",
    "\n",
    "# Load a fourth sample picture and learn how to recognize it.\n",
    "random3_image = face_recognition.load_image_file(\"random_faces/random3.jpg\")\n",
    "random3_face_encoding = face_recognition.face_encodings(random3_image)[0]\n"
   ]
  },
  {
   "cell_type": "code",
   "execution_count": null,
   "metadata": {},
   "outputs": [],
   "source": [
    "kf = KalmanFilter(initial_state_mean=0, n_dim_obs=2)"
   ]
  },
  {
   "cell_type": "code",
   "execution_count": null,
   "metadata": {},
   "outputs": [],
   "source": []
  },
  {
   "cell_type": "code",
   "execution_count": null,
   "metadata": {},
   "outputs": [],
   "source": []
  },
  {
   "cell_type": "code",
   "execution_count": null,
   "metadata": {},
   "outputs": [],
   "source": []
  },
  {
   "cell_type": "code",
   "execution_count": null,
   "metadata": {},
   "outputs": [],
   "source": []
  },
  {
   "cell_type": "code",
   "execution_count": null,
   "metadata": {},
   "outputs": [],
   "source": []
  }
 ],
 "metadata": {
  "kernelspec": {
   "display_name": "Python 3",
   "language": "python",
   "name": "python3"
  },
  "language_info": {
   "codemirror_mode": {
    "name": "ipython",
    "version": 3
   },
   "file_extension": ".py",
   "mimetype": "text/x-python",
   "name": "python",
   "nbconvert_exporter": "python",
   "pygments_lexer": "ipython3",
   "version": "3.6.8"
  }
 },
 "nbformat": 4,
 "nbformat_minor": 2
}
